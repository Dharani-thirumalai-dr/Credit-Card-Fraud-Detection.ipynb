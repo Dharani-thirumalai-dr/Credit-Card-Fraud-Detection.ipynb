{
  "nbformat": 4,
  "nbformat_minor": 0,
  "metadata": {
    "colab": {
      "provenance": [],
      "authorship_tag": "ABX9TyPEoIP5tThBAU1o01Rcjpp2",
      "include_colab_link": true
    },
    "kernelspec": {
      "name": "python3",
      "display_name": "Python 3"
    },
    "language_info": {
      "name": "python"
    }
  },
  "cells": [
    {
      "cell_type": "markdown",
      "metadata": {
        "id": "view-in-github",
        "colab_type": "text"
      },
      "source": [
        "<a href=\"https://colab.research.google.com/github/Dharani-thirumalai-dr/Credit-Card-Fraud-Detection.ipynb/blob/main/Dharani.ipynb\" target=\"_parent\"><img src=\"https://colab.research.google.com/assets/colab-badge.svg\" alt=\"Open In Colab\"/></a>"
      ]
    },
    {
      "cell_type": "code",
      "execution_count": 2,
      "metadata": {
        "id": "eNCqHcniIEnG"
      },
      "outputs": [],
      "source": [
        "import numpy as np\n",
        "import pandas as pd\n",
        "from sklearn.linear_model import LinearRegression\n",
        "from sklearn.preprocessing import StandardScaler\n",
        "from sklearn.model_selection import train_test_split\n",
        "from sklearn.metrics import mean_squared_error\n",
        "import matplotlib.pyplot as plt\n",
        "import seaborn as sns"
      ]
    },
    {
      "cell_type": "code",
      "source": [
        "def create_array():\n",
        "    return np.array([1, 2,3,4,5])"
      ],
      "metadata": {
        "id": "Y57810dsRZVl"
      },
      "execution_count": 3,
      "outputs": []
    },
    {
      "cell_type": "code",
      "source": [
        "arr = create_array()\n",
        "print(f\"NumPy array:{arr}\")"
      ],
      "metadata": {
        "colab": {
          "base_uri": "https://localhost:8080/"
        },
        "id": "T4lfyqS1VHT4",
        "outputId": "e7b47642-d394-4efa-e74c-34f1721813a2"
      },
      "execution_count": 4,
      "outputs": [
        {
          "output_type": "stream",
          "name": "stdout",
          "text": [
            "NumPy array:[1 2 3 4 5]\n"
          ]
        }
      ]
    },
    {
      "cell_type": "code",
      "source": [
        "# 2. Calculating mean\n",
        "def calculate_mean(arr):\n",
        "    return np.mean(arr)"
      ],
      "metadata": {
        "id": "taqIW1S3VHQj"
      },
      "execution_count": 7,
      "outputs": []
    },
    {
      "cell_type": "code",
      "source": [
        "mean_val = calculate_mean(arr)\n",
        "print(f\"Mean of array:{mean_val}\")"
      ],
      "metadata": {
        "colab": {
          "base_uri": "https://localhost:8080/"
        },
        "id": "HFUhDnY8VHNx",
        "outputId": "d5972495-027e-44eb-d9ee-557297d2a6a4"
      },
      "execution_count": 8,
      "outputs": [
        {
          "output_type": "stream",
          "name": "stdout",
          "text": [
            "Mean of array:3.0\n"
          ]
        }
      ]
    },
    {
      "cell_type": "code",
      "source": [
        "# 3. Calculating median\n",
        "def calculate_median(arr):\n",
        "    return np.median(arr)"
      ],
      "metadata": {
        "id": "b_dP_EB2VHLL"
      },
      "execution_count": 9,
      "outputs": []
    },
    {
      "cell_type": "code",
      "source": [
        "median_val = calculate_median(arr)\n",
        "print(f\"Median of array:{median_val}\")"
      ],
      "metadata": {
        "colab": {
          "base_uri": "https://localhost:8080/"
        },
        "id": "rRL6pvduVHIO",
        "outputId": "27ddad9b-a7c1-40f6-e98b-265cde348268"
      },
      "execution_count": 10,
      "outputs": [
        {
          "output_type": "stream",
          "name": "stdout",
          "text": [
            "Median of array:3.0\n"
          ]
        }
      ]
    },
    {
      "cell_type": "code",
      "source": [
        "# 4. Standard deviation\n",
        "def calculate_std(arr):\n",
        "    return np.std(arr)"
      ],
      "metadata": {
        "id": "Wa7tfmXlVHE6"
      },
      "execution_count": 11,
      "outputs": []
    },
    {
      "cell_type": "code",
      "source": [
        "std_val = calculate_std(arr)\n",
        "print(f\"Standard deviation of array:{std_val}\")"
      ],
      "metadata": {
        "colab": {
          "base_uri": "https://localhost:8080/"
        },
        "id": "-OKU2pgJW6G-",
        "outputId": "6b2d4bac-f97a-415b-d23b-ee34ae90f3da"
      },
      "execution_count": 12,
      "outputs": [
        {
          "output_type": "stream",
          "name": "stdout",
          "text": [
            "Standard deviation of array:1.4142135623730951\n"
          ]
        }
      ]
    },
    {
      "cell_type": "code",
      "source": [
        "# 5. Creating a Pandas DataFrame\n",
        "def create_dataframe():\n",
        "    data = {'A': [1, 2, 3], 'B': [4, 5, 6], 'C': [7, 8, 9]}\n",
        "    return pd.DataFrame(data)"
      ],
      "metadata": {
        "id": "QQhAl9xHW6D0"
      },
      "execution_count": 13,
      "outputs": []
    },
    {
      "cell_type": "code",
      "source": [
        "df = create_dataframe()\n",
        "print(\"DataFrame:\\n\", df)"
      ],
      "metadata": {
        "colab": {
          "base_uri": "https://localhost:8080/"
        },
        "id": "Ic38rTvkW6Bg",
        "outputId": "614f75f3-11c3-45ad-e9b2-99ab3ddb60ce"
      },
      "execution_count": 14,
      "outputs": [
        {
          "output_type": "stream",
          "name": "stdout",
          "text": [
            "DataFrame:\n",
            "    A  B  C\n",
            "0  1  4  7\n",
            "1  2  5  8\n",
            "2  3  6  9\n"
          ]
        }
      ]
    },
    {
      "cell_type": "code",
      "source": [
        "# 6. Descriptive statistics of a DataFrame\n",
        "def dataframe_statistics(df):\n",
        "    return df.describe()"
      ],
      "metadata": {
        "id": "d1PD7MkwW5_D"
      },
      "execution_count": 15,
      "outputs": []
    },
    {
      "cell_type": "code",
      "source": [
        "print(\"DataFrame statistics:\\n\", dataframe_statistics(df))"
      ],
      "metadata": {
        "colab": {
          "base_uri": "https://localhost:8080/"
        },
        "id": "LuIgBNS5W58s",
        "outputId": "5df01ec0-36f8-4e20-d15a-0a4b5cf47e5e"
      },
      "execution_count": 16,
      "outputs": [
        {
          "output_type": "stream",
          "name": "stdout",
          "text": [
            "DataFrame statistics:\n",
            "          A    B    C\n",
            "count  3.0  3.0  3.0\n",
            "mean   2.0  5.0  8.0\n",
            "std    1.0  1.0  1.0\n",
            "min    1.0  4.0  7.0\n",
            "25%    1.5  4.5  7.5\n",
            "50%    2.0  5.0  8.0\n",
            "75%    2.5  5.5  8.5\n",
            "max    3.0  6.0  9.0\n"
          ]
        }
      ]
    },
    {
      "cell_type": "code",
      "source": [
        "# 7. DataFrame column selection\n",
        "def select_column(df, column):\n",
        "    return df[column]"
      ],
      "metadata": {
        "id": "J-CgMh0cW56W"
      },
      "execution_count": 17,
      "outputs": []
    },
    {
      "cell_type": "code",
      "source": [
        "print(\"Column A:\\n\", select_column(df,'A'))"
      ],
      "metadata": {
        "colab": {
          "base_uri": "https://localhost:8080/"
        },
        "id": "KjcQvkdcW535",
        "outputId": "449e5d89-843a-4ba9-8ab6-ff2604d1e658"
      },
      "execution_count": 19,
      "outputs": [
        {
          "output_type": "stream",
          "name": "stdout",
          "text": [
            "Column A:\n",
            " 0    1\n",
            "1    2\n",
            "2    3\n",
            "Name: A, dtype: int64\n"
          ]
        }
      ]
    },
    {
      "cell_type": "code",
      "source": [
        "# 8. Handling missing data by filling NaNs\n",
        "def fill_missing_values(df, value):\n",
        "    return df.fillna(value)"
      ],
      "metadata": {
        "id": "wprkUGd3W51V"
      },
      "execution_count": 20,
      "outputs": []
    },
    {
      "cell_type": "code",
      "source": [
        "df_with_nan = df.copy()\n",
        "df_with_nan.loc[0, 'A'] = np.nan\n",
        "print(\"DataFrame with NaN:\\n\", df_with_nan)\n",
        "print(\"Filled DataFrame:\\n\", fill_missing_values(df_with_nan, 0))"
      ],
      "metadata": {
        "colab": {
          "base_uri": "https://localhost:8080/"
        },
        "id": "SbxPY0b7W5zD",
        "outputId": "c8bc8572-96cc-40aa-f81e-2905b796cfe4"
      },
      "execution_count": 21,
      "outputs": [
        {
          "output_type": "stream",
          "name": "stdout",
          "text": [
            "DataFrame with NaN:\n",
            "      A  B  C\n",
            "0  NaN  4  7\n",
            "1  2.0  5  8\n",
            "2  3.0  6  9\n",
            "Filled DataFrame:\n",
            "      A  B  C\n",
            "0  0.0  4  7\n",
            "1  2.0  5  8\n",
            "2  3.0  6  9\n"
          ]
        }
      ]
    },
    {
      "cell_type": "code",
      "source": [
        "# 9. Normalization (Standardization)\n",
        "def normalize_data(arr):\n",
        "    scaler = StandardScaler()\n",
        "    return scaler.fit_transform(arr.reshape(-1, 1))"
      ],
      "metadata": {
        "id": "FKlNLV4KW5wd"
      },
      "execution_count": 22,
      "outputs": []
    },
    {
      "cell_type": "code",
      "source": [
        "normalized_arr = normalize_data(arr)\n",
        "print(f\"Normalized array:\\n{normalized_arr}\")"
      ],
      "metadata": {
        "colab": {
          "base_uri": "https://localhost:8080/"
        },
        "id": "TMajtU9sW5t5",
        "outputId": "aa013831-65cd-4d56-e0d0-b2db147d61c6"
      },
      "execution_count": 23,
      "outputs": [
        {
          "output_type": "stream",
          "name": "stdout",
          "text": [
            "Normalized array:\n",
            "[[-1.41421356]\n",
            " [-0.70710678]\n",
            " [ 0.        ]\n",
            " [ 0.70710678]\n",
            " [ 1.41421356]]\n"
          ]
        }
      ]
    },
    {
      "cell_type": "code",
      "source": [
        "# 10. Splitting data into train and test sets\n",
        "def split_data(X, y, test_size=0.2):\n",
        "    return train_test_split(X, y, test_size=test_size, random_state=42)"
      ],
      "metadata": {
        "id": "qT2sp2K9W5rL"
      },
      "execution_count": 24,
      "outputs": []
    },
    {
      "cell_type": "code",
      "source": [
        "X, y = df[['A', 'B']], df['C']\n",
        "X_train, X_test, y_train, y_test = split_data(X, y)\n",
        "print(\"Training set:\\n\", X_train)\n",
        "print(\"Test set:\\n\", X_test)"
      ],
      "metadata": {
        "colab": {
          "base_uri": "https://localhost:8080/"
        },
        "id": "8OsWngkWW5os",
        "outputId": "e9c3dbb6-e7a2-4614-cfe0-351254d294d5"
      },
      "execution_count": 25,
      "outputs": [
        {
          "output_type": "stream",
          "name": "stdout",
          "text": [
            "Training set:\n",
            "    A  B\n",
            "1  2  5\n",
            "2  3  6\n",
            "Test set:\n",
            "    A  B\n",
            "0  1  4\n"
          ]
        }
      ]
    },
    {
      "cell_type": "code",
      "source": [
        "# 11. Linear Regression Model Training\n",
        "def train_linear_regression(X_train, y_train):\n",
        "    model = LinearRegression()\n",
        "    model.fit(X_train, y_train)\n",
        "    return model"
      ],
      "metadata": {
        "id": "FUnBAvnGVHBe"
      },
      "execution_count": 26,
      "outputs": []
    },
    {
      "cell_type": "code",
      "source": [
        "model = train_linear_regression(X_train, y_train)\n",
        "print(\"Linear regression coefficients:\", model.coef_)"
      ],
      "metadata": {
        "colab": {
          "base_uri": "https://localhost:8080/"
        },
        "id": "brsgQ-v_YY5o",
        "outputId": "b4d1a446-2ba6-41ce-ee53-353ab763d896"
      },
      "execution_count": 27,
      "outputs": [
        {
          "output_type": "stream",
          "name": "stdout",
          "text": [
            "Linear regression coefficients: [0.5 0.5]\n"
          ]
        }
      ]
    },
    {
      "cell_type": "code",
      "source": [
        "# 12. Predicting using Linear Regression\n",
        "def predict(model, X_test):\n",
        "    return model.predict(X_test)"
      ],
      "metadata": {
        "id": "CioeISdRYY2d"
      },
      "execution_count": 28,
      "outputs": []
    },
    {
      "cell_type": "code",
      "source": [
        "predictions = predict(model, X_test)\n",
        "print(\"Predictions:\", predictions)"
      ],
      "metadata": {
        "colab": {
          "base_uri": "https://localhost:8080/"
        },
        "id": "jya3JPOVYYy3",
        "outputId": "036ad670-227d-4616-cc67-0c9de0fcec39"
      },
      "execution_count": 29,
      "outputs": [
        {
          "output_type": "stream",
          "name": "stdout",
          "text": [
            "Predictions: [7.]\n"
          ]
        }
      ]
    },
    {
      "cell_type": "code",
      "source": [
        "# 13. Calculating Mean Squared Error (MSE)\n",
        "def calculate_mse(y_true, y_pred):\n",
        "    return mean_squared_error(y_true, y_pred)"
      ],
      "metadata": {
        "id": "terUOilwYYwA"
      },
      "execution_count": 30,
      "outputs": []
    },
    {
      "cell_type": "code",
      "source": [
        "mse = calculate_mse(y_test, predictions)\n",
        "print(\"Mean Squared Error:\", mse)"
      ],
      "metadata": {
        "colab": {
          "base_uri": "https://localhost:8080/"
        },
        "id": "TgPsHZJXYYtZ",
        "outputId": "2f9c8365-8b1c-4a60-8ba6-9492140528ff"
      },
      "execution_count": 31,
      "outputs": [
        {
          "output_type": "stream",
          "name": "stdout",
          "text": [
            "Mean Squared Error: 0.0\n"
          ]
        }
      ]
    },
    {
      "cell_type": "code",
      "source": [
        "# 14. Creating a Matplotlib plot\n",
        "def create_plot(x, y):\n",
        "    plt.plot(x, y)\n",
        "    plt.xlabel(\"X-axis\")\n",
        "    plt.ylabel(\"Y-axis\")\n",
        "    plt.title(\"Simple Plot\")\n",
        "    plt.show()"
      ],
      "metadata": {
        "id": "4Kk3mhSSYYq1"
      },
      "execution_count": 32,
      "outputs": []
    },
    {
      "cell_type": "code",
      "source": [
        "create_plot([1, 2, 3, 4], [10, 20, 30, 40])"
      ],
      "metadata": {
        "colab": {
          "base_uri": "https://localhost:8080/",
          "height": 472
        },
        "id": "-8TGAIMvYYod",
        "outputId": "151139fe-e519-4ea4-cfeb-348bd276873e"
      },
      "execution_count": 33,
      "outputs": [
        {
          "output_type": "display_data",
          "data": {
            "text/plain": [
              "<Figure size 640x480 with 1 Axes>"
            ],
            "image/png": "[encoded data removed]"
          },
          "metadata": {}
        }
      ]
    },
    {
      "cell_type": "code",
      "source": [
        "# 15. Creating a Seaborn heatmap\n",
        "def create_heatmap(df):\n",
        "    sns.heatmap(df.corr(), annot=True)\n",
        "    plt.show()"
      ],
      "metadata": {
        "id": "f2cTO2nVYYmN"
      },
      "execution_count": 34,
      "outputs": []
    },
    {
      "cell_type": "code",
      "source": [
        "create_heatmap(df)"
      ],
      "metadata": {
        "colab": {
          "base_uri": "https://localhost:8080/",
          "height": 435
        },
        "id": "PSIghH7KYYjs",
        "outputId": "76c47615-5bbf-4041-9f2d-1937e0b231d0"
      },
      "execution_count": 35,
      "outputs": [
        {
          "output_type": "display_data",
          "data": {
            "text/plain": [
              "<Figure size 640x480 with 2 Axes>"
            ],
            "image/png": "[encoded data removed]"
          },
          "metadata": {}
        }
      ]
    },
    {
      "cell_type": "code",
      "source": [
        "# 16. Counting unique values in a column\n",
        "def count_unique(df, column):\n",
        "    return df[column].nunique()"
      ],
      "metadata": {
        "id": "J2OdHUnsYYhH"
      },
      "execution_count": 36,
      "outputs": []
    },
    {
      "cell_type": "code",
      "source": [
        "print(\"Unique values in column A:\", count_unique(df, 'A'))"
      ],
      "metadata": {
        "colab": {
          "base_uri": "https://localhost:8080/"
        },
        "id": "TcfqmoPoYYen",
        "outputId": "43fef0de-efa9-4334-f2bd-128ceb05db2b"
      },
      "execution_count": 37,
      "outputs": [
        {
          "output_type": "stream",
          "name": "stdout",
          "text": [
            "Unique values in column A: 3\n"
          ]
        }
      ]
    },
    {
      "cell_type": "code",
      "source": [
        "# 17. Grouping data in a DataFrame\n",
        "def group_data(df, column):\n",
        "    return df.groupby(column).sum()"
      ],
      "metadata": {
        "id": "Xh9weBLgYYbz"
      },
      "execution_count": 38,
      "outputs": []
    },
    {
      "cell_type": "code",
      "source": [
        "grouped_df = group_data(df, 'A')\n",
        "print(\"Grouped DataFrame:\\n\", grouped_df)"
      ],
      "metadata": {
        "colab": {
          "base_uri": "https://localhost:8080/"
        },
        "id": "7u-xrWmLYYYt",
        "outputId": "29bfc96e-f738-45d8-a9db-8386c2af8c6c"
      },
      "execution_count": 39,
      "outputs": [
        {
          "output_type": "stream",
          "name": "stdout",
          "text": [
            "Grouped DataFrame:\n",
            "    B  C\n",
            "A      \n",
            "1  4  7\n",
            "2  5  8\n",
            "3  6  9\n"
          ]
        }
      ]
    },
    {
      "cell_type": "code",
      "source": [
        "# 18. Merging two DataFrames\n",
        "def merge_dataframes(df1, df2, on_column):\n",
        "    return pd.merge(df1, df2, on=on_column)"
      ],
      "metadata": {
        "id": "6k9r6m4pYYVs"
      },
      "execution_count": 40,
      "outputs": []
    },
    {
      "cell_type": "code",
      "source": [],
      "metadata": {
        "id": "pxWWwYE2aK8a"
      },
      "execution_count": null,
      "outputs": []
    },
    {
      "cell_type": "code",
      "source": [
        "df2 = pd.DataFrame({'A': [1, 2, 3],'D': [10, 20, 30]})\n",
        "merged_df = merge_dataframes(df, df2, 'A')\n",
        "print(\"Merged DataFrame:\\n\", merged_df)"
      ],
      "metadata": {
        "colab": {
          "base_uri": "https://localhost:8080/"
        },
        "id": "EmmuVlgyaK47",
        "outputId": "09689a04-f7a4-4333-9d6f-274c1c74d712"
      },
      "execution_count": 44,
      "outputs": [
        {
          "output_type": "stream",
          "name": "stdout",
          "text": [
            "Merged DataFrame:\n",
            "    A  B  C   D\n",
            "0  1  4  7  10\n",
            "1  2  5  8  20\n",
            "2  3  6  9  30\n"
          ]
        }
      ]
    },
    {
      "cell_type": "code",
      "source": [
        "# 19. Applying a function to a DataFrame column\n",
        "def apply_function(df, column, func):\n",
        "    return df[column].apply(func)"
      ],
      "metadata": {
        "id": "f9i9_hJzaK0J"
      },
      "execution_count": 45,
      "outputs": []
    },
    {
      "cell_type": "code",
      "source": [
        "applied_df = apply_function(df, 'A', lambda x: x*2)\n",
        "print(\"Applied function to column A:\\n\", applied_df)"
      ],
      "metadata": {
        "colab": {
          "base_uri": "https://localhost:8080/"
        },
        "id": "VatLqS2-aK2c",
        "outputId": "e9877293-f645-468c-886a-bc38c5437107"
      },
      "execution_count": 46,
      "outputs": [
        {
          "output_type": "stream",
          "name": "stdout",
          "text": [
            "Applied function to column A:\n",
            " 0    2\n",
            "1    4\n",
            "2    6\n",
            "Name: A, dtype: int64\n"
          ]
        }
      ]
    },
    {
      "cell_type": "code",
      "source": [
        "# 20. Sorting a DataFrame by column\n",
        "def sort_dataframe(df, column, ascending=True):\n",
        "    return df.sort_values(by=column, ascending=ascending)"
      ],
      "metadata": {
        "id": "f8MlsRB8aKyK"
      },
      "execution_count": 47,
      "outputs": []
    },
    {
      "cell_type": "code",
      "source": [
        "sorted_df = sort_dataframe(df, 'B')\n",
        "print(\"Sorted DataFrame:\\n\", sorted_df)"
      ],
      "metadata": {
        "colab": {
          "base_uri": "https://localhost:8080/"
        },
        "id": "kdIUhgVBaKvZ",
        "outputId": "d7a576d3-7326-425a-b194-0b141b3905b9"
      },
      "execution_count": 48,
      "outputs": [
        {
          "output_type": "stream",
          "name": "stdout",
          "text": [
            "Sorted DataFrame:\n",
            "    A  B  C\n",
            "0  1  4  7\n",
            "1  2  5  8\n",
            "2  3  6  9\n"
          ]
        }
      ]
    },
    {
      "cell_type": "code",
      "source": [],
      "metadata": {
        "id": "MhrYd5gxaKsu"
      },
      "execution_count": null,
      "outputs": []
    },
    {
      "cell_type": "code",
      "source": [],
      "metadata": {
        "id": "xe16LJ0haKqM"
      },
      "execution_count": null,
      "outputs": []
    },
    {
      "cell_type": "code",
      "source": [],
      "metadata": {
        "id": "yF7SK9gaaKnc"
      },
      "execution_count": null,
      "outputs": []
    }
  ]
}